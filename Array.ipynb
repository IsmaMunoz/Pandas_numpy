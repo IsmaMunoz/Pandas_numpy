{
  "nbformat": 4,
  "nbformat_minor": 0,
  "metadata": {
    "colab": {
      "provenance": [],
      "collapsed_sections": [],
      "authorship_tag": "ABX9TyO5RJVJHfLnpce7yt+d96bX",
      "include_colab_link": true
    },
    "kernelspec": {
      "name": "python3",
      "display_name": "Python 3"
    },
    "language_info": {
      "name": "python"
    }
  },
  "cells": [
    {
      "cell_type": "markdown",
      "metadata": {
        "id": "view-in-github",
        "colab_type": "text"
      },
      "source": [
        "<a href=\"https://colab.research.google.com/github/IsmaMunoz/Pandas_numpy/blob/main/Array.ipynb\" target=\"_parent\"><img src=\"https://colab.research.google.com/assets/colab-badge.svg\" alt=\"Open In Colab\"/></a>"
      ]
    },
    {
      "cell_type": "markdown",
      "source": [
        "El array es el principal objeto de la librería. Representa datos de manera estructurada y se puede acceder a ellos a través del indexado, a un dato específico o un grupo de muchos datos específicos."
      ],
      "metadata": {
        "id": "C0KXPZjnrA6Y"
      }
    },
    {
      "cell_type": "markdown",
      "source": [
        "Importar libreria numpy"
      ],
      "metadata": {
        "id": "huC9Mc0ArDW-"
      }
    },
    {
      "cell_type": "code",
      "source": [
        "import numpy as np"
      ],
      "metadata": {
        "id": "sRxsF8LgrIDL"
      },
      "execution_count": null,
      "outputs": []
    },
    {
      "cell_type": "markdown",
      "source": [
        "Definir la lista"
      ],
      "metadata": {
        "id": "VZaTnCm_rUu9"
      }
    },
    {
      "cell_type": "code",
      "source": [
        "lista = [1, 2 , 3, 4, 5, 6, 7, 8, 9] \n",
        "lista"
      ],
      "metadata": {
        "id": "FrgPuILurXAy"
      },
      "execution_count": null,
      "outputs": []
    },
    {
      "cell_type": "markdown",
      "source": [
        "Volvemos la lista un array"
      ],
      "metadata": {
        "id": "Y3GTYh3BrbJM"
      }
    },
    {
      "cell_type": "code",
      "source": [
        "arr = np.array(lista)\n",
        "arr"
      ],
      "metadata": {
        "id": "rZcU0T4xrdJr"
      },
      "execution_count": null,
      "outputs": []
    },
    {
      "cell_type": "markdown",
      "source": [
        "Una matriz son varios Vectores o listas agrupadas una encima de la otra, es como una tabla de Excel"
      ],
      "metadata": {
        "id": "G-aLdjcQritV"
      }
    },
    {
      "cell_type": "code",
      "source": [
        "matriz = [[1, 2, 3], [4, 5, 6], [7, 8, 9]]\n",
        "matriz = np.array(matriz)\n",
        "matriz"
      ],
      "metadata": {
        "id": "RMKmhnGjrkWS"
      },
      "execution_count": null,
      "outputs": []
    },
    {
      "cell_type": "markdown",
      "source": [
        "El indexado nos permite acceder a los elementos de los array y matrices\n",
        "Los elementos se empiezan a contar desde 0."
      ],
      "metadata": {
        "id": "KZxuolzzrsg4"
      }
    },
    {
      "cell_type": "code",
      "source": [
        "arr[0]"
      ],
      "metadata": {
        "colab": {
          "base_uri": "https://localhost:8080/"
        },
        "id": "VRd5SRjhrs7n",
        "outputId": "26946664-23b2-41ba-950f-f63d824d50e1"
      },
      "execution_count": null,
      "outputs": [
        {
          "output_type": "execute_result",
          "data": {
            "text/plain": [
              "1"
            ]
          },
          "metadata": {},
          "execution_count": 28
        }
      ]
    },
    {
      "cell_type": "markdown",
      "source": [
        "En el caso de las matrices, al indexar una posición se regresa el array de dicha posición."
      ],
      "metadata": {
        "id": "GRqYE8VFr2Ur"
      }
    },
    {
      "cell_type": "code",
      "source": [
        "matriz [0]"
      ],
      "metadata": {
        "colab": {
          "base_uri": "https://localhost:8080/"
        },
        "id": "tHNKLagzr231",
        "outputId": "c937d5e8-5c9e-4498-a547-b48e92268e15"
      },
      "execution_count": null,
      "outputs": [
        {
          "output_type": "execute_result",
          "data": {
            "text/plain": [
              "array([1, 2, 3])"
            ]
          },
          "metadata": {},
          "execution_count": 29
        }
      ]
    },
    {
      "cell_type": "markdown",
      "source": [
        "Para seleccionar un solo elemento de la matriz se especifica la posición del elemento separada por comas.\n",
        "\n",
        "Nota: El primer elemento selecciona las filas, el segundo elemento las columnas"
      ],
      "metadata": {
        "id": "Vcy_iz7qr7b5"
      }
    },
    {
      "cell_type": "code",
      "source": [
        "matriz[0, 2]"
      ],
      "metadata": {
        "colab": {
          "base_uri": "https://localhost:8080/"
        },
        "id": "6ovvIVmWr82c",
        "outputId": "907b4f6b-7dfa-48b9-c755-8f0f0a0b680b"
      },
      "execution_count": null,
      "outputs": [
        {
          "output_type": "execute_result",
          "data": {
            "text/plain": [
              "3"
            ]
          },
          "metadata": {},
          "execution_count": 30
        }
      ]
    },
    {
      "cell_type": "markdown",
      "source": [
        "Slicing\n",
        "Nos permite extraer varios datos, tiene un comienzo y un final.\n",
        "En este ejemplo se está extrayendo datos desde la posición 1 hasta la 5."
      ],
      "metadata": {
        "id": "rnH7Kog_sC0V"
      }
    },
    {
      "cell_type": "code",
      "source": [
        "arr[1:6]"
      ],
      "metadata": {
        "colab": {
          "base_uri": "https://localhost:8080/"
        },
        "id": "JPydxxpfsEWh",
        "outputId": "49624867-0a0c-43fb-a828-007970795660"
      },
      "execution_count": null,
      "outputs": [
        {
          "output_type": "execute_result",
          "data": {
            "text/plain": [
              "array([2, 3, 4, 5, 6])"
            ]
          },
          "metadata": {},
          "execution_count": 31
        }
      ]
    },
    {
      "cell_type": "markdown",
      "source": [
        "Si no se ingresa el valor de inicio, se toma el inicio como la posición 0."
      ],
      "metadata": {
        "id": "00VSLnTcsLqV"
      }
    },
    {
      "cell_type": "code",
      "source": [
        "arr [:6]"
      ],
      "metadata": {
        "colab": {
          "base_uri": "https://localhost:8080/"
        },
        "id": "UFuQFH8TsMAj",
        "outputId": "ed8addb7-318f-43a9-9353-12409c3cea0a"
      },
      "execution_count": null,
      "outputs": [
        {
          "output_type": "execute_result",
          "data": {
            "text/plain": [
              "array([1, 2, 3, 4, 5, 6])"
            ]
          },
          "metadata": {},
          "execution_count": 32
        }
      ]
    },
    {
      "cell_type": "markdown",
      "source": [
        "En cambio, si no se le da una posición final, se regresan todos los elementos hasta el final del array."
      ],
      "metadata": {
        "id": "CcrR93w4sVXR"
      }
    },
    {
      "cell_type": "code",
      "source": [
        "arr[2:]"
      ],
      "metadata": {
        "colab": {
          "base_uri": "https://localhost:8080/"
        },
        "id": "vvbXZcwksVm3",
        "outputId": "e444f30a-f732-45f1-b1b4-1af59df4c7e4"
      },
      "execution_count": null,
      "outputs": [
        {
          "output_type": "execute_result",
          "data": {
            "text/plain": [
              "array([3, 4, 5, 6, 7, 8, 9])"
            ]
          },
          "metadata": {},
          "execution_count": 33
        }
      ]
    },
    {
      "cell_type": "markdown",
      "source": [
        "Cuando se le asigna un valor negativo se regresan los valores comenzando desde la última posición del array."
      ],
      "metadata": {
        "id": "Ytg55CGYscda"
      }
    },
    {
      "cell_type": "code",
      "source": [
        "arr[-1]"
      ],
      "metadata": {
        "colab": {
          "base_uri": "https://localhost:8080/"
        },
        "id": "7Dhv6mKisdBL",
        "outputId": "fa9f62d8-88af-4908-9030-8a73c898bb56"
      },
      "execution_count": null,
      "outputs": [
        {
          "output_type": "execute_result",
          "data": {
            "text/plain": [
              "9"
            ]
          },
          "metadata": {},
          "execution_count": 34
        }
      ]
    },
    {
      "cell_type": "code",
      "source": [
        "arr[-3:]"
      ],
      "metadata": {
        "colab": {
          "base_uri": "https://localhost:8080/"
        },
        "id": "Q2CExoyMsfv3",
        "outputId": "32683537-5c6b-4882-aae1-a20a68c48351"
      },
      "execution_count": null,
      "outputs": [
        {
          "output_type": "execute_result",
          "data": {
            "text/plain": [
              "array([7, 8, 9])"
            ]
          },
          "metadata": {},
          "execution_count": 35
        }
      ]
    }
  ]
}